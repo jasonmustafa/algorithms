{
 "cells": [
  {
   "cell_type": "code",
   "execution_count": 15,
   "metadata": {},
   "outputs": [],
   "source": [
    "### PART ONE ###"
   ]
  },
  {
   "cell_type": "code",
   "execution_count": 16,
   "metadata": {},
   "outputs": [],
   "source": [
    "with open(\"input.txt\") as f:\n",
    "    data = f.read().split(\"\\n\")\n",
    "    _map = [list(row) for row in data]"
   ]
  },
  {
   "cell_type": "code",
   "execution_count": null,
   "metadata": {},
   "outputs": [],
   "source": [
    "num_rows = len(_map)\n",
    "num_cols = len(_map[0])\n",
    "\n",
    "def find_start(_map):\n",
    "    for row in range(len(_map)):\n",
    "        for col in range(len(_map[row])):\n",
    "            if _map[row][col] == \"^\":\n",
    "                return row, col\n",
    "            \n",
    "start_row, start_col = find_start(_map)\n",
    "print(start_row, start_col)"
   ]
  },
  {
   "cell_type": "code",
   "execution_count": 18,
   "metadata": {},
   "outputs": [],
   "source": [
    "visited = set()\n",
    "curr_row, curr_col = start_row, start_col\n",
    "direction = \"up\"\n",
    "\n",
    "direction_to_next_direction = {\n",
    "    \"up\": \"right\",\n",
    "    \"right\": \"down\",\n",
    "    \"down\": \"left\",\n",
    "    \"left\": \"up\",\n",
    "}\n",
    "\n",
    "def get_forward(curr_row, curr_col):\n",
    "    return {\n",
    "        \"up\": (curr_row-1, curr_col),\n",
    "        \"down\": (curr_row+1, curr_col),\n",
    "        \"left\": (curr_row, curr_col-1),\n",
    "        \"right\": (curr_row, curr_col+1),\n",
    "    }[direction]\n",
    "\n",
    "def move(curr_row, curr_col):\n",
    "    forward_row, forward_col = get_forward(curr_row, curr_col)\n",
    "    return forward_row, forward_col"
   ]
  },
  {
   "cell_type": "code",
   "execution_count": null,
   "metadata": {},
   "outputs": [],
   "source": [
    "forward_row, forward_col = get_forward(curr_row, curr_col)\n",
    "\n",
    "# keep moving while the next forward position is within the grid\n",
    "while 0 <= forward_row < num_rows and 0 <= forward_col < num_cols:\n",
    "    # mark current position as visited\n",
    "    # _map[curr_row][curr_col] = \"X\"\n",
    "    visited.add((curr_row, curr_col))\n",
    "        \n",
    "    # keep turning 90 degrees until path is clear\n",
    "    forward = _map[forward_row][forward_col]\n",
    "\n",
    "    if forward == \"#\":\n",
    "        direction = direction_to_next_direction[direction]\n",
    "        forward_row, forward_col = get_forward(curr_row, curr_col)\n",
    "        continue\n",
    "\n",
    "    # path is clear, move forward\n",
    "    next_row, next_col = move(curr_row, curr_col)\n",
    "    curr_row, curr_col = next_row, next_col\n",
    "\n",
    "    # get next position to move to\n",
    "    forward_row, forward_col = get_forward(curr_row, curr_col)\n",
    "\n",
    "# add the last position\n",
    "visited.add((curr_row, curr_col))\n",
    "\n",
    "print(len(visited))"
   ]
  },
  {
   "cell_type": "code",
   "execution_count": 20,
   "metadata": {},
   "outputs": [],
   "source": [
    "### PART TWO ###"
   ]
  },
  {
   "cell_type": "code",
   "execution_count": null,
   "metadata": {},
   "outputs": [],
   "source": [
    "num_rows = len(_map)\n",
    "num_cols = len(_map[0])\n",
    "            \n",
    "start_row, start_col = find_start(_map)\n",
    "print(start_row, start_col)"
   ]
  },
  {
   "cell_type": "code",
   "execution_count": null,
   "metadata": {},
   "outputs": [],
   "source": [
    "num_positions = num_rows*num_cols\n",
    "num_moves = 0\n",
    "num_positions_for_new_obstruction = 0\n",
    "\n",
    "for new_obstruction_row in range(num_rows):\n",
    "    for new_obstruction_col in range(num_cols):\n",
    "        visited = set()\n",
    "        direction = \"up\"\n",
    "        curr_row, curr_col = start_row, start_col\n",
    "        num_moves = 0\n",
    "\n",
    "        print(new_obstruction_row)\n",
    "\n",
    "        # skip if on starting position\n",
    "        if new_obstruction_row == start_row and new_obstruction_col == start_col:\n",
    "            continue\n",
    "\n",
    "        # skip is position is already an abstruction\n",
    "        if _map[new_obstruction_row][new_obstruction_col] == \"#\":\n",
    "            continue\n",
    "\n",
    "        # try current position as new obstruction\n",
    "        _map[new_obstruction_row][new_obstruction_col] = \"#\"\n",
    "\n",
    "        # start from the original start position\n",
    "        forward_row, forward_col = get_forward(start_row, start_col)\n",
    "\n",
    "        # keep moving while the next forward position is within the grid\n",
    "        while 0 <= forward_row < num_rows and 0 <= forward_col < num_cols:\n",
    "            visited.add((curr_row, curr_col, direction))\n",
    "                \n",
    "            # keep turning 90 degrees until path is clear\n",
    "            forward = _map[forward_row][forward_col]\n",
    "\n",
    "            # currently facing an obstable, turn to the right and try again\n",
    "            if forward == \"#\":\n",
    "                direction = direction_to_next_direction[direction]\n",
    "                forward_row, forward_col = get_forward(curr_row, curr_col)\n",
    "                continue\n",
    "\n",
    "            # path is clear, move forward\n",
    "            next_row, next_col = move(curr_row, curr_col)\n",
    "            curr_row, curr_col = next_row, next_col\n",
    "            num_moves += 1\n",
    "\n",
    "            # guard is stuck\n",
    "            if (curr_row, curr_col, direction) in visited:\n",
    "                num_positions_for_new_obstruction += 1\n",
    "                break\n",
    "\n",
    "            # get next position to move to\n",
    "            forward_row, forward_col = get_forward(curr_row, curr_col)\n",
    "\n",
    "        # add the last position\n",
    "        visited.add((curr_row, curr_col))\n",
    "\n",
    "        # reset the obstruction\n",
    "        _map[new_obstruction_row][new_obstruction_col] = \".\""
   ]
  },
  {
   "cell_type": "code",
   "execution_count": null,
   "metadata": {},
   "outputs": [],
   "source": [
    "print(f\"{num_positions_for_new_obstruction = }\")"
   ]
  }
 ],
 "metadata": {
  "kernelspec": {
   "display_name": "my_env",
   "language": "python",
   "name": "python3"
  },
  "language_info": {
   "codemirror_mode": {
    "name": "ipython",
    "version": 3
   },
   "file_extension": ".py",
   "mimetype": "text/x-python",
   "name": "python",
   "nbconvert_exporter": "python",
   "pygments_lexer": "ipython3",
   "version": "3.13.0"
  }
 },
 "nbformat": 4,
 "nbformat_minor": 2
}
