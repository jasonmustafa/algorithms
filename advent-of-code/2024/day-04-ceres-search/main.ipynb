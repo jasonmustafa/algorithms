{
 "cells": [
  {
   "cell_type": "code",
   "execution_count": 45,
   "metadata": {},
   "outputs": [],
   "source": [
    "with open(\"input.txt\") as f:\n",
    "    data = f.read()"
   ]
  },
  {
   "cell_type": "code",
   "execution_count": null,
   "metadata": {},
   "outputs": [],
   "source": [
    "split_data = data.split(\"\\n\")\n",
    "split_data"
   ]
  },
  {
   "cell_type": "code",
   "execution_count": null,
   "metadata": {},
   "outputs": [],
   "source": [
    "input = [list(line) for line in split_data]\n",
    "input"
   ]
  },
  {
   "cell_type": "code",
   "execution_count": null,
   "metadata": {},
   "outputs": [],
   "source": [
    "len(input)"
   ]
  },
  {
   "cell_type": "code",
   "execution_count": null,
   "metadata": {},
   "outputs": [],
   "source": [
    "### PART ONE ###\n",
    "\n",
    "count = 0\n",
    "num_rows = len(input)\n",
    "\n",
    "for row in range(len(input)):\n",
    "    num_cols = len(input[row])\n",
    "\n",
    "    for col in range(len(input[row])):\n",
    "        print(f\"{row=},{col=}\")\n",
    "\n",
    "        if input[row][col] == \"X\":\n",
    "            # check up\n",
    "            if row-3 >= 0:\n",
    "                word = f\"{input[row][col]}{input[row-1][col]}{input[row-2][col]}{input[row-3][col]}\"\n",
    "                if word == \"XMAS\":\n",
    "                    count += 1\n",
    "            # check down\n",
    "            if row+3 < num_rows:\n",
    "                word = f\"{input[row][col]}{input[row+1][col]}{input[row+2][col]}{input[row+3][col]}\"\n",
    "                if word == \"XMAS\":\n",
    "                    count += 1\n",
    "            # check left\n",
    "            if col-3 >= 0:\n",
    "                word = f\"{input[row][col]}{input[row][col-1]}{input[row][col-2]}{input[row][col-3]}\"\n",
    "                if word == \"XMAS\":\n",
    "                    count += 1\n",
    "            # check right\n",
    "            if col+3 < num_cols:\n",
    "                word = f\"{input[row][col]}{input[row][col+1]}{input[row][col+2]}{input[row][col+3]}\"\n",
    "                if word == \"XMAS\":\n",
    "                    count += 1\n",
    "            # check diagonal up-left\n",
    "            if row-3 >= 0 and col-3 >= 0:\n",
    "                word = f\"{input[row][col]}{input[row-1][col-1]}{input[row-2][col-2]}{input[row-3][col-3]}\"\n",
    "                if word == \"XMAS\":\n",
    "                    count += 1\n",
    "            # check diagonal up-right\n",
    "            if row-3 >= 0 and col+3 < num_cols:\n",
    "                word = f\"{input[row][col]}{input[row-1][col+1]}{input[row-2][col+2]}{input[row-3][col+3]}\"\n",
    "                if word == \"XMAS\":\n",
    "                    count += 1\n",
    "            # check diagonal down-left\n",
    "            if row+3 < num_rows and col-3 >= 0:\n",
    "                word = f\"{input[row][col]}{input[row+1][col-1]}{input[row+2][col-2]}{input[row+3][col-3]}\"\n",
    "                if word == \"XMAS\":\n",
    "                    count += 1\n",
    "            # check diagonal down-right\n",
    "            if row+3 < num_cols and col+3 < num_cols:\n",
    "                word = f\"{input[row][col]}{input[row+1][col+1]}{input[row+2][col+2]}{input[row+3][col+3]}\"\n",
    "                if word == \"XMAS\":\n",
    "                    count += 1"
   ]
  },
  {
   "cell_type": "code",
   "execution_count": null,
   "metadata": {},
   "outputs": [],
   "source": [
    "print(count)"
   ]
  },
  {
   "cell_type": "code",
   "execution_count": null,
   "metadata": {},
   "outputs": [],
   "source": [
    "### PART TWO ###\n",
    "\n",
    "count = 0\n",
    "num_rows = len(input)\n",
    "\n",
    "for row in range(len(input)):\n",
    "    num_cols = len(input[row])\n",
    "\n",
    "    for col in range(len(input[row])):\n",
    "        print(f\"{row=},{col=}\")\n",
    "\n",
    "        if input[row][col] == \"A\":\n",
    "            if row-1 >= 0 and row+1 < num_rows and col-1 >= 0 and col+1 < num_cols:\n",
    "                left_to_right = f\"{input[row-1][col-1]}{input[row][col]}{input[row+1][col+1]}\"\n",
    "                right_to_left = f\"{input[row-1][col+1]}{input[row][col]}{input[row+1][col-1]}\"\n",
    "            \n",
    "                if any(left_to_right == match for match in [\"MAS\", \"SAM\"]) and any(right_to_left == match for match in [\"MAS\", \"SAM\"]):\n",
    "                    count += 1"
   ]
  },
  {
   "cell_type": "code",
   "execution_count": null,
   "metadata": {},
   "outputs": [],
   "source": [
    "print(count)"
   ]
  }
 ],
 "metadata": {
  "kernelspec": {
   "display_name": "my_env",
   "language": "python",
   "name": "python3"
  },
  "language_info": {
   "codemirror_mode": {
    "name": "ipython",
    "version": 3
   },
   "file_extension": ".py",
   "mimetype": "text/x-python",
   "name": "python",
   "nbconvert_exporter": "python",
   "pygments_lexer": "ipython3",
   "version": "3.13.0"
  }
 },
 "nbformat": 4,
 "nbformat_minor": 2
}
