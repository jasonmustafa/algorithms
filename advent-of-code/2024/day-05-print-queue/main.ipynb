{
 "cells": [
  {
   "cell_type": "code",
   "execution_count": 119,
   "metadata": {},
   "outputs": [],
   "source": [
    "### PART ONE ###"
   ]
  },
  {
   "cell_type": "code",
   "execution_count": null,
   "metadata": {},
   "outputs": [],
   "source": [
    "with open(\"input.txt\") as f:\n",
    "    data = f.read().split(\"\\n\\n\")\n",
    "\n",
    "raw_rules = data[0]\n",
    "raw_updates = data[1]\n",
    "\n",
    "rules = [pages.split(\"|\") for pages in raw_rules.split(\"\\n\")]\n",
    "updates = [pages.split(\",\") for pages in raw_updates.split(\"\\n\")]\n",
    "\n",
    "print(rules)\n",
    "print(updates)"
   ]
  },
  {
   "cell_type": "code",
   "execution_count": null,
   "metadata": {},
   "outputs": [],
   "source": [
    "incorrect_updates = []\n",
    "\n",
    "for rule in rules:\n",
    "    left = rule[0]\n",
    "    right = rule[1]\n",
    "\n",
    "    # check if each update breaks the current rule\n",
    "    for update in updates:\n",
    "        if left in update and right in update:\n",
    "            l = update.index(left)\n",
    "            r = update.index(right)\n",
    "\n",
    "            # the left page comes after the right page\n",
    "            if l >= r:\n",
    "                updates.remove(update)\n",
    "\n",
    "                # save incorrect update for part 2\n",
    "                incorrect_updates.append(update)\n",
    "                \n",
    "                break\n",
    "\n",
    "print(updates)"
   ]
  },
  {
   "cell_type": "code",
   "execution_count": null,
   "metadata": {},
   "outputs": [],
   "source": [
    "sum = 0\n",
    "\n",
    "for update in updates:\n",
    "    m = len(update)//2\n",
    "    sum += int(update[m])\n",
    "\n",
    "print(sum)"
   ]
  },
  {
   "cell_type": "code",
   "execution_count": 123,
   "metadata": {},
   "outputs": [],
   "source": [
    "### PART TWO ###"
   ]
  },
  {
   "cell_type": "code",
   "execution_count": 124,
   "metadata": {},
   "outputs": [],
   "source": [
    "# 97|13\n",
    "# 97|47\n",
    "# 75|29\n",
    "# 29|13\n",
    "# 97|29\n",
    "# 47|13\n",
    "# 75|47\n",
    "# 97|75\n",
    "# 47|29\n",
    "# 75|13\n",
    "\n",
    "# swaps\n",
    "# 97,13,75,29,47 incorrect\n",
    "# 97,29,75,13,47\n",
    "# 97,75,29,13,47\n",
    "# 97,75,29,47,13\n",
    "# 97,75,47,29,13\n",
    "# 97,75,47,29,13 correct\n",
    "\n",
    "# check every rule\n",
    "# every time a rule is broken, swap the pages\n",
    "# keep checking every rule\n",
    "# if every rule is met, you are done"
   ]
  },
  {
   "cell_type": "code",
   "execution_count": null,
   "metadata": {},
   "outputs": [],
   "source": [
    "sum = 0\n",
    "\n",
    "for update in incorrect_updates:\n",
    "    correct = False\n",
    "\n",
    "    while not correct:\n",
    "        broke_rule = False\n",
    "\n",
    "        for rule in rules:\n",
    "            left = rule[0]\n",
    "            right = rule[1]\n",
    "\n",
    "            if left not in update or right not in update:\n",
    "                continue\n",
    "\n",
    "            left = update.index(left)\n",
    "            right = update.index(right)\n",
    "\n",
    "            # rule broken\n",
    "            if left >= right:\n",
    "                broke_rule = True\n",
    "\n",
    "                # swap pages\n",
    "                update[left], update[right] = update[right], update[left]\n",
    "\n",
    "        # when all rules are satisfied, the order is correct\n",
    "        if not broke_rule:\n",
    "            correct = True\n",
    "        \n",
    "    # order is correct\n",
    "    m = len(update)//2\n",
    "    sum += int(update[m])\n",
    "\n",
    "print(sum)"
   ]
  }
 ],
 "metadata": {
  "kernelspec": {
   "display_name": "my_env",
   "language": "python",
   "name": "python3"
  },
  "language_info": {
   "codemirror_mode": {
    "name": "ipython",
    "version": 3
   },
   "file_extension": ".py",
   "mimetype": "text/x-python",
   "name": "python",
   "nbconvert_exporter": "python",
   "pygments_lexer": "ipython3",
   "version": "3.13.0"
  }
 },
 "nbformat": 4,
 "nbformat_minor": 2
}
