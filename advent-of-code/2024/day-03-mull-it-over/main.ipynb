{
 "cells": [
  {
   "cell_type": "code",
   "execution_count": null,
   "metadata": {},
   "outputs": [],
   "source": [
    "import re"
   ]
  },
  {
   "cell_type": "code",
   "execution_count": null,
   "metadata": {},
   "outputs": [],
   "source": [
    "### PART 1 ###\n",
    "\n",
    "instruction_pattern = re.compile(r\"mul\\([0-9]{1,3},[0-9]{1,3}\\)\")\n",
    "\n",
    "with open(\"input.txt\", \"r\") as file:\n",
    "    data = file.read()\n",
    "\n",
    "instructions = re.findall(instruction_pattern, data)\n",
    "\n",
    "num_pattern = re.compile(r\"[0-9]{1,3}\")\n",
    "total = 0\n",
    "\n",
    "for instruction in instructions:\n",
    "    raw_nums = re.findall(num_pattern, instruction)\n",
    "    nums = [int(num) for num in raw_nums]\n",
    "\n",
    "    total += nums[0]*nums[1]\n",
    "\n",
    "print(total)"
   ]
  },
  {
   "cell_type": "code",
   "execution_count": null,
   "metadata": {},
   "outputs": [],
   "source": [
    "### PART 2 ###\n",
    "\n",
    "removal_pattern = re.compile(r\"don't\\(\\).*?do\\(\\)\")\n",
    "data = re.sub(removal_pattern, \"\", data)\n",
    "\n",
    "instructions = re.findall(instruction_pattern, data)\n",
    "total = 0\n",
    "\n",
    "for instruction in instructions:\n",
    "    raw_nums = re.findall(num_pattern, instruction)\n",
    "    nums = [int(num) for num in raw_nums]\n",
    "    total += nums[0]*nums[1]\n",
    "\n",
    "print(total)"
   ]
  }
 ],
 "metadata": {
  "kernelspec": {
   "display_name": "my_env",
   "language": "python",
   "name": "python3"
  },
  "language_info": {
   "codemirror_mode": {
    "name": "ipython",
    "version": 3
   },
   "file_extension": ".py",
   "mimetype": "text/x-python",
   "name": "python",
   "nbconvert_exporter": "python",
   "pygments_lexer": "ipython3",
   "version": "3.13.0"
  }
 },
 "nbformat": 4,
 "nbformat_minor": 2
}
