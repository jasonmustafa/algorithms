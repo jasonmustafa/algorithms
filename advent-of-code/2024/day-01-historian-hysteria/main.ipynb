{
 "cells": [
  {
   "cell_type": "code",
   "execution_count": null,
   "metadata": {},
   "outputs": [],
   "source": [
    "import pandas as pd\n",
    "import numpy as np"
   ]
  },
  {
   "cell_type": "code",
   "execution_count": null,
   "metadata": {},
   "outputs": [],
   "source": [
    "### Part 1 ###\n",
    "\n",
    "df = pd.read_csv(\"input.txt\", header=None, sep=r\"\\s+\", names=[\"one\", \"two\"])\n",
    "df = df.transform(np.sort)\n",
    "\n",
    "df[\"diff\"] = abs(df[\"one\"] - df[\"two\"])\n",
    "sum = df[\"diff\"].sum()\n",
    "print(sum)"
   ]
  },
  {
   "cell_type": "code",
   "execution_count": null,
   "metadata": {},
   "outputs": [],
   "source": [
    "### Part 2 ###\n",
    "\n",
    "similarity = 0\n",
    "two_counts = df[\"two\"].value_counts()\n",
    "\n",
    "for id in df[\"one\"]:\n",
    "    if id in two_counts:\n",
    "        similarity += id*two_counts[id]\n",
    "\n",
    "print(similarity)"
   ]
  }
 ],
 "metadata": {
  "kernelspec": {
   "display_name": "my_env",
   "language": "python",
   "name": "python3"
  },
  "language_info": {
   "codemirror_mode": {
    "name": "ipython",
    "version": 3
   },
   "file_extension": ".py",
   "mimetype": "text/x-python",
   "name": "python",
   "nbconvert_exporter": "python",
   "pygments_lexer": "ipython3",
   "version": "3.13.0"
  }
 },
 "nbformat": 4,
 "nbformat_minor": 2
}
